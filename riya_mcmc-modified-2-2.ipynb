{
 "cells": [
  {
   "cell_type": "code",
   "execution_count": null,
   "metadata": {},
   "outputs": [],
   "source": [
    "\n",
    "def metropolis(old_string, new_string, s):\n",
    "   \n",
    "        for i in range(s):         \n",
    "            #The function f will have to be written for calculating thermostability.\n",
    "            r=thermostability(new_string)/thermostability(old_string)\n",
    "            if r>1:\n",
    "                string = new_string\n",
    "            else:\n",
    "                odds = np.random.binomial(1, r)\n",
    "                if odds == 1:\n",
    "                    string = new_string\n",
    "        return string\n",
    "    \n"
   ]
  }
 ],
 "metadata": {
  "colab": {
   "name": "hw2q1.ipynb",
   "provenance": []
  },
  "kernelspec": {
   "display_name": "Python 3",
   "language": "python",
   "name": "python3"
  },
  "language_info": {
   "codemirror_mode": {
    "name": "ipython",
    "version": 3
   },
   "file_extension": ".py",
   "mimetype": "text/x-python",
   "name": "python",
   "nbconvert_exporter": "python",
   "pygments_lexer": "ipython3",
   "version": "3.7.6"
  }
 },
 "nbformat": 4,
 "nbformat_minor": 1
}
